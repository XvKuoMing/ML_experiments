{
  "nbformat": 4,
  "nbformat_minor": 0,
  "metadata": {
    "colab": {
      "provenance": []
    },
    "kernelspec": {
      "name": "python3",
      "display_name": "Python 3"
    },
    "language_info": {
      "name": "python"
    },
    "accelerator": "GPU"
  },
  "cells": [
    {
      "cell_type": "code",
      "execution_count": null,
      "metadata": {
        "id": "wVJVL0Ik82PK"
      },
      "outputs": [],
      "source": [
        "import tensorflow as tf\n",
        "import matplotlib.pyplot as plt\n",
        "import matplotlib.ticker as ticker\n",
        "from sklearn.model_selection import train_test_split\n",
        "\n",
        "import unicodedata\n",
        "import re\n",
        "import numpy as np\n",
        "import os\n",
        "import io\n",
        "import time"
      ]
    },
    {
      "cell_type": "code",
      "source": [],
      "metadata": {
        "id": "j0lC3Dd8w_qi"
      },
      "execution_count": null,
      "outputs": []
    },
    {
      "cell_type": "markdown",
      "source": [
        "# Load data set\n",
        "- clean sentences by removing special characters\n",
        "- Add a start and end token to each sentence\n",
        "- create a word index and reverse word index\n",
        "- Pad each sentence to a maximum length"
      ],
      "metadata": {
        "id": "xArRcUr-AxnW"
      }
    },
    {
      "cell_type": "code",
      "source": [
        "#Download the file\n",
        "\n",
        "path_to_zip = tf.keras.utils.get_file(\n",
        "    'spa-eng.zip', origin='http://storage.googleapis.com/download.tensorflow.org/data/spa-eng.zip',\n",
        "    extract=True)\n",
        "print(path_to_zip)\n",
        "\n",
        "path_to_file = os.path.dirname(path_to_zip) + \"/spa-eng/spa.txt\"\n",
        "print(path_to_file)"
      ],
      "metadata": {
        "colab": {
          "base_uri": "https://localhost:8080/"
        },
        "id": "VPznwqjOAvER",
        "outputId": "9c256b53-a461-483f-f164-2b43c577e4c2"
      },
      "execution_count": null,
      "outputs": [
        {
          "output_type": "stream",
          "name": "stdout",
          "text": [
            "Downloading data from http://storage.googleapis.com/download.tensorflow.org/data/spa-eng.zip\n",
            "2646016/2638744 [==============================] - 0s 0us/step\n",
            "2654208/2638744 [==============================] - 0s 0us/step\n",
            "/root/.keras/datasets/spa-eng.zip\n",
            "/root/.keras/datasets/spa-eng/spa.txt\n"
          ]
        }
      ]
    },
    {
      "cell_type": "code",
      "source": [
        "#Preprocessing\n",
        "#1. convert unicode files to ascii\n",
        "def unicode_to_ascii(s):\n",
        "  return ''.join(c for c in unicodedata.normalize('NFD',s) if unicodedata.category(c)!='Mn')\n",
        "\n",
        "def preprocess_sentence(w):\n",
        "  w = unicode_to_ascii(w.lower().strip())\n",
        "  #creating a space between a word and the punctuation following it\n",
        "  # w = re.sub(r\"([?.!,¿])\", r\" \\1 \", w)\n",
        "  w = re.sub(r\"([.,!?¿])\", r\" \\1 \", w)\n",
        "  w = re.sub('\\s{2,}', ' ', w)\n",
        "\n",
        "  #replacing everything with space, except letters, punctuations ...\n",
        "  w = re.sub(r\"[^a-zA-Z?.!,¿]+\", \" \", w)\n",
        "  w = w.strip()\n",
        "\n",
        "  #adding start and end tokens\n",
        "  w = '<start> ' + w + ' <end>'\n",
        "  return w"
      ],
      "metadata": {
        "id": "rs4pqdatFB8w"
      },
      "execution_count": null,
      "outputs": []
    },
    {
      "cell_type": "code",
      "source": [
        "def create_dataset(path, num_examples):\n",
        "  lines = io.open(path, encoding='UTF-8').read().strip().split('\\n')\n",
        "  word_pairs = [[preprocess_sentence(w) for w in l.split('\\t')]  for l in lines[:num_examples]]\n",
        "  return zip(*word_pairs)\n",
        "\n",
        "en, sp = create_dataset(path_to_file, None)\n",
        "print(en[-1])\n",
        "print(sp[-1])\n",
        "print(len(en), len(sp))"
      ],
      "metadata": {
        "colab": {
          "base_uri": "https://localhost:8080/"
        },
        "id": "6j7Wt_lSTnTJ",
        "outputId": "3c7a39ba-728b-4db0-db6d-45377ac1d348"
      },
      "execution_count": null,
      "outputs": [
        {
          "output_type": "stream",
          "name": "stdout",
          "text": [
            "<start> if you want to sound like a native speaker , you must be willing to practice saying the same sentence over and over in the same way that banjo players practice the same phrase over and over until they can play it correctly and at the desired tempo . <end>\n",
            "<start> si quieres sonar como un hablante nativo , debes estar dispuesto a practicar diciendo la misma frase una y otra vez de la misma manera en que un musico de banjo practica el mismo fraseo una y otra vez hasta que lo puedan tocar correctamente y en el tiempo esperado . <end>\n",
            "118964 118964\n"
          ]
        }
      ]
    },
    {
      "cell_type": "code",
      "source": [
        "#tokenize the sentence and pad the sequence to the same length\n",
        "def tokenize(lang):\n",
        "  lang_tokenizer = tf.keras.preprocessing.text.Tokenizer(filters='')\n",
        "  lang_tokenizer.fit_on_texts(lang)\n",
        "  tensor = lang_tokenizer.texts_to_sequences(lang)\n",
        "  tensor = tf.keras.preprocessing.sequence.pad_sequences(tensor, padding='post')\n",
        "  return tensor, lang_tokenizer"
      ],
      "metadata": {
        "id": "47chgw-1quQh"
      },
      "execution_count": null,
      "outputs": []
    },
    {
      "cell_type": "code",
      "source": [
        "def load_dataset(path, num_examples=None):\n",
        "  targ_lang, inp_lang = create_dataset(path, num_examples)\n",
        "  input_tensor, inp_lang_tokenizer = tokenize(inp_lang)\n",
        "  target_tensor, targ_lang_tokenizer = tokenize(targ_lang)\n",
        "  return input_tensor, target_tensor, inp_lang_tokenizer, targ_lang_tokenizer"
      ],
      "metadata": {
        "id": "7E75YgkGuQil"
      },
      "execution_count": null,
      "outputs": []
    },
    {
      "cell_type": "code",
      "source": [],
      "metadata": {
        "id": "I2GEb-ooq_3A"
      },
      "execution_count": null,
      "outputs": []
    },
    {
      "cell_type": "code",
      "source": [
        "num_examples = 30000\n",
        "input_tensor, target_tensor, inp_lang, targ_lang = load_dataset(path_to_file, num_examples)\n",
        "\n",
        "# Calculate max_length of the target tensors\n",
        "max_length_targ, max_length_inp = target_tensor.shape[1], input_tensor.shape[1]\n",
        "print(max_length_targ, max_length_inp)"
      ],
      "metadata": {
        "colab": {
          "base_uri": "https://localhost:8080/"
        },
        "id": "VlopqKyDuwKL",
        "outputId": "0ea20cfe-2cd1-48e3-f63b-e29a9cd8d04e"
      },
      "execution_count": null,
      "outputs": [
        {
          "output_type": "stream",
          "name": "stdout",
          "text": [
            "11 16\n"
          ]
        }
      ]
    },
    {
      "cell_type": "code",
      "source": [
        "# Creating training and validation sets using an 80-20 split\n",
        "input_tensor_train, input_tensor_val, target_tensor_train, target_tensor_val = train_test_split(input_tensor, target_tensor, test_size=0.2)\n",
        "\n",
        "# Show length\n",
        "print(len(input_tensor_train), len(target_tensor_train), len(input_tensor_val), len(target_tensor_val))\n",
        "print(input_tensor_train[0])\n",
        "print(target_tensor_train[0])"
      ],
      "metadata": {
        "colab": {
          "base_uri": "https://localhost:8080/"
        },
        "id": "1HRObqP7vPhm",
        "outputId": "2bb9d08d-36a7-4301-eee5-51e002d79235"
      },
      "execution_count": null,
      "outputs": [
        {
          "output_type": "stream",
          "name": "stdout",
          "text": [
            "24000 24000 6000 6000\n",
            "[  1  25   8   7 557   3   2   0   0   0   0   0   0   0   0   0]\n",
            "[  1  27  11  34   9 466   3   2   0   0   0]\n"
          ]
        }
      ]
    },
    {
      "cell_type": "markdown",
      "source": [
        "# Create a tf.data dataset\n",
        "\n",
        "- create a source dataset from your input data\n",
        "- Apply dataset transformations to preprocess the data\n",
        "- Iterate over the dataset and process the elements\n",
        "\n",
        "\n",
        "Iteration occurs in streaming fashion, so the full dataset does not need to fit into memory"
      ],
      "metadata": {
        "id": "wjIu-jQxxA7e"
      }
    },
    {
      "cell_type": "code",
      "source": [
        "#configuration\n",
        "BUFFER_SIZE = len(input_tensor_train)\n",
        "BATCH_SIZE = 64\n",
        "steps_per_epoch = len(input_tensor_train)//BATCH_SIZE\n",
        "steps_per_epoch_val = len(input_tensor_val)//BATCH_SIZE\n",
        "embedding_dim = 256 #for word embeddings\n",
        "units = 1024 ##dimensionality of the output space of the RNN\n",
        "vocab_inp_size = len(inp_lang.word_index)+1\n",
        "vocab_tar_size = len(targ_lang.word_index)+1\n",
        "\n",
        "dataset = tf.data.Dataset.from_tensor_slices((input_tensor_train, target_tensor_train)).shuffle(BUFFER_SIZE)\n",
        "dataset = dataset.batch(BATCH_SIZE, drop_remainder=True)\n",
        "validation_dataset = tf.data.Dataset.from_tensor_slices((input_tensor_val, target_tensor_val)).shuffle(BUFFER_SIZE)\n",
        "validation_dataset = validation_dataset.batch(BATCH_SIZE, drop_remainder=True)\n",
        "\n",
        "example_input_batch, example_target_batch  = next(iter(dataset))\n",
        "example_input_batch.shape, example_target_batch.shape"
      ],
      "metadata": {
        "colab": {
          "base_uri": "https://localhost:8080/"
        },
        "id": "N5qdQFQFxO3z",
        "outputId": "8f90d1dc-10a8-4092-ce7d-e58a23269507"
      },
      "execution_count": null,
      "outputs": [
        {
          "output_type": "execute_result",
          "data": {
            "text/plain": [
              "(TensorShape([64, 16]), TensorShape([64, 11]))"
            ]
          },
          "metadata": {},
          "execution_count": 10
        }
      ]
    },
    {
      "cell_type": "code",
      "source": [],
      "metadata": {
        "id": "jr4BUe5uzRAH"
      },
      "execution_count": null,
      "outputs": []
    },
    {
      "cell_type": "markdown",
      "source": [
        "# Making the basic seq2seq model"
      ],
      "metadata": {
        "id": "NQacgPNRU_IH"
      }
    },
    {
      "cell_type": "code",
      "source": [
        "class Encoder(tf.keras.Model):\n",
        "  def __init__(self, vocab_size, embedding_dim, enc_units, batch_sz):\n",
        "    super(Encoder, self).__init__()\n",
        "    self.batch_sz = batch_sz\n",
        "    self.enc_units = enc_units\n",
        "    self.embedding = tf.keras.layers.Embedding(vocab_size, embedding_dim)\n",
        "    self.gru = tf.keras.layers.GRU(self.enc_units, return_sequences=True, return_state=True, recurrent_initializer='glorot_uniform')\n",
        "\n",
        "  def call(self, x, hidden):\n",
        "    x = self.embedding(x)\n",
        "    output, state = self.gru(x, initial_state=hidden)\n",
        "    return output, state\n",
        "\n",
        "  def initialize_hidden_state(self):\n",
        "    return tf.zeros((self.batch_sz, self.enc_units))"
      ],
      "metadata": {
        "id": "E-fFi5brU_g5"
      },
      "execution_count": null,
      "outputs": []
    },
    {
      "cell_type": "code",
      "source": [
        "encoder = Encoder(vocab_inp_size, embedding_dim, units, BATCH_SIZE)\n",
        "\n",
        "# sample input\n",
        "sample_hidden = encoder.initialize_hidden_state()\n",
        "sample_output, sample_hidden = encoder(example_input_batch, sample_hidden)\n",
        "print ('Encoder output shape: (batch size, sequence length, units) {}'.format(sample_output.shape))\n",
        "print ('Encoder Hidden state shape: (batch size, units) {}'.format(sample_hidden.shape))"
      ],
      "metadata": {
        "colab": {
          "base_uri": "https://localhost:8080/"
        },
        "id": "ZjICrKTc1b19",
        "outputId": "ccab0b39-8fe2-4c43-c280-4887d48ca8a0"
      },
      "execution_count": null,
      "outputs": [
        {
          "output_type": "stream",
          "name": "stdout",
          "text": [
            "Encoder output shape: (batch size, sequence length, units) (64, 16, 1024)\n",
            "Encoder Hidden state shape: (batch size, units) (64, 1024)\n"
          ]
        }
      ]
    },
    {
      "cell_type": "code",
      "source": [
        "class Decoder(tf.keras.Model):\n",
        "  def __init__(self, vocab_size, embedding_dim, dec_units, batch_sz):\n",
        "    super(Decoder, self).__init__()\n",
        "    self.batch_sz = batch_sz\n",
        "    self.dec_units = dec_units\n",
        "    self.embedding = tf.keras.layers.Embedding(vocab_size, embedding_dim)\n",
        "    self.gru = tf.keras.layers.GRU(self.dec_units, return_sequences=True, return_state=True, recurrent_initializer='glorot_uniform')\n",
        "    self.fc = tf.keras.layers.Dense(vocab_size)\n",
        "\n",
        "  def call(self, x, hidden):\n",
        "    print(\"X:\", x.shape)\n",
        "    x = self.embedding(x)\n",
        "    print(\"XE:\", x.shape)\n",
        "    output, state = self.gru(x, initial_state=hidden)\n",
        "    print(\"A:\", output.shape)\n",
        "    print(\"B:\", state.shape)\n",
        "    output = tf.reshape(output, (-1,output.shape[2]))\n",
        "    print(\"C:\", output.shape)\n",
        "    x = self.fc(output)\n",
        "    print(\"D:\", x.shape)\n",
        "    return x,state"
      ],
      "metadata": {
        "id": "XGoqWRFg78l2"
      },
      "execution_count": null,
      "outputs": []
    },
    {
      "cell_type": "code",
      "source": [
        "decoder = Decoder(vocab_tar_size, embedding_dim, units, BATCH_SIZE)\n",
        "\n",
        "sample_decoder_output, _ = decoder(tf.random.uniform((BATCH_SIZE,1)), sample_hidden)\n",
        "print ('Decoder output shape: (batch_size, vocab size) {}'.format(sample_decoder_output.shape))"
      ],
      "metadata": {
        "colab": {
          "base_uri": "https://localhost:8080/"
        },
        "id": "3j2SzW5JdbhD",
        "outputId": "7c026ddc-c141-479f-ee51-7508f842b48d"
      },
      "execution_count": null,
      "outputs": [
        {
          "output_type": "stream",
          "name": "stdout",
          "text": [
            "X: (64, 1)\n",
            "XE: (64, 1, 256)\n",
            "A: (64, 1, 1024)\n",
            "B: (64, 1024)\n",
            "C: (64, 1024)\n",
            "D: (64, 4935)\n",
            "Decoder output shape: (batch_size, vocab size) (64, 4935)\n"
          ]
        }
      ]
    },
    {
      "cell_type": "code",
      "source": [],
      "metadata": {
        "id": "olKH8Lu-d32M"
      },
      "execution_count": null,
      "outputs": []
    },
    {
      "cell_type": "markdown",
      "source": [
        "# Dot product attention"
      ],
      "metadata": {
        "id": "PHbkATRVjpvk"
      }
    },
    {
      "cell_type": "code",
      "source": [
        "class DotProductAttention(tf.keras.layers.Layer):\n",
        "  def __init__(self,units):\n",
        "    super(DotProductAttention,self).__init__()\n",
        "    self.WK = tf.keras.layers.Dense(units)\n",
        "    self.WQ= tf.keras.layers.Dense(units)\n",
        "\n",
        "  def call(self, query, values):\n",
        "    #query -> s\n",
        "    #values -> h1 .. hn\n",
        "    query_with_time_axis = tf.expand_dims(query,1)\n",
        "\n",
        "    K = self.WK(values)\n",
        "    Q = self.WQ(query_with_time_axis)\n",
        "    QT = tf.einsum('ijk->ikj',Q)\n",
        "    score = tf.matmul(K, QT)\n",
        "\n",
        "    attention_weights = tf.nn.softmax(score,axis=1)\n",
        "\n",
        "    context_vector = attention_weights*values\n",
        "    context_vector = tf.reduce_sum(context_vector, axis=1)\n",
        "\n",
        "    return context_vector, attention_weights"
      ],
      "metadata": {
        "id": "resD6nxL85Jw"
      },
      "execution_count": null,
      "outputs": []
    },
    {
      "cell_type": "code",
      "source": [
        "attention_layer = DotProductAttention(units)\n",
        "attention_result, attention_weights = attention_layer(sample_hidden, sample_output)\n",
        "\n",
        "print(\"Attention result shape: (batch size, units) {}\".format(attention_result.shape))\n",
        "print(\"Attention weights shape: (batch_size, sequence_length, 1) {}\".format(attention_weights.shape))"
      ],
      "metadata": {
        "colab": {
          "base_uri": "https://localhost:8080/"
        },
        "id": "svWE6K3LlhNU",
        "outputId": "34bad8f1-0c67-4ebb-bf74-636a402b208c"
      },
      "execution_count": null,
      "outputs": [
        {
          "output_type": "stream",
          "name": "stdout",
          "text": [
            "Attention result shape: (batch size, units) (64, 1024)\n",
            "Attention weights shape: (batch_size, sequence_length, 1) (64, 16, 1)\n"
          ]
        }
      ]
    },
    {
      "cell_type": "code",
      "source": [],
      "metadata": {
        "id": "oTC0_MppyOr1"
      },
      "execution_count": null,
      "outputs": []
    },
    {
      "cell_type": "markdown",
      "source": [
        "# Additive Attention"
      ],
      "metadata": {
        "id": "fHfAPj34z261"
      }
    },
    {
      "cell_type": "code",
      "source": [
        "class BahdanauAttention(tf.keras.layers.Layer):\n",
        "  def __init__(self,units):\n",
        "    super(BahdanauAttention,self).__init__()\n",
        "    self.W1 = tf.keras.layers.Dense(units)\n",
        "    self.W2= tf.keras.layers.Dense(units)\n",
        "    self.V = tf.keras.layers.Dense(1)\n",
        "\n",
        "  def call(self,query, values):\n",
        "    query_with_time_axis = tf.expand_dims(query, 1)\n",
        "\n",
        "    score = self.V(tf.nn.tanh(self.W1(values) + self.W2(query_with_time_axis)))\n",
        "\n",
        "    attention_weights = tf.nn.softmax(score,axis=1)\n",
        "\n",
        "    context_vector = attention_weights*values\n",
        "    context_vector = tf.reduce_sum(context_vector, axis=1)\n",
        "\n",
        "    return context_vector, attention_weights"
      ],
      "metadata": {
        "id": "gGuy3kRlz4h-"
      },
      "execution_count": null,
      "outputs": []
    },
    {
      "cell_type": "code",
      "source": [],
      "metadata": {
        "id": "kP7fmY4W1bTG"
      },
      "execution_count": null,
      "outputs": []
    },
    {
      "cell_type": "markdown",
      "source": [
        "# Decoder with Attention"
      ],
      "metadata": {
        "id": "HTMysVyi9vIR"
      }
    },
    {
      "cell_type": "code",
      "source": [
        "class DecoderWithAttention(tf.keras.Model):\n",
        "  def __init__(self, vocab_size, embedding_dim, dec_units, batch_sz, attention=None):\n",
        "    super(DecoderWithAttention, self).__init__()\n",
        "    self.batch_sz = batch_sz\n",
        "    self.dec_units = dec_units\n",
        "    self.embedding = tf.keras.layers.Embedding(vocab_size, embedding_dim)\n",
        "    self.gru = tf.keras.layers.GRU(self.dec_units, return_sequences=True, return_state=True, recurrent_initializer='glorot_uniform')\n",
        "    self.fc = tf.keras.layers.Dense(vocab_size)\n",
        "    self.attention = attention\n",
        "\n",
        "  def call(self, x, hidden, enc_output):\n",
        "    x = self.embedding(x)\n",
        "    attention_weights=None\n",
        "\n",
        "    if self.attention:\n",
        "      context_vector, attention_weights = self.attention(hidden, enc_output)\n",
        "      x = tf.concat([tf.expand_dims(context_vector, 1), x], axis=-1)\n",
        "\n",
        "    output, state = self.gru(x, initial_state=hidden)\n",
        "    output = tf.reshape(output, (-1,output.shape[2]))\n",
        "    x = self.fc(output)\n",
        "\n",
        "    return x,state,attention_weights"
      ],
      "metadata": {
        "id": "KWIsp6gq9xH_"
      },
      "execution_count": null,
      "outputs": []
    },
    {
      "cell_type": "code",
      "source": [],
      "metadata": {
        "id": "US8CYPbHAsyR"
      },
      "execution_count": null,
      "outputs": []
    },
    {
      "cell_type": "markdown",
      "source": [
        "# Loss function"
      ],
      "metadata": {
        "id": "qxBJ2RAOVjts"
      }
    },
    {
      "cell_type": "code",
      "source": [
        "loss_object = tf.keras.losses.SparseCategoricalCrossentropy(from_logits=True, reduction='none')\n",
        "def loss_function(real,pred):\n",
        "  loss_ = loss_object(real,pred)\n",
        "  return tf.reduce_mean(loss_)"
      ],
      "metadata": {
        "id": "GcCYXVd8Vln-"
      },
      "execution_count": null,
      "outputs": []
    },
    {
      "cell_type": "code",
      "source": [
        "print(loss_object([1,2],[[0,0.6,0.3,0.1],[0,0.6,0.3,0.1]]))\n",
        "print(loss_function([1,2],[[0,0.6,0.3,0.1],[0,0.6,0.3,0.1]]))"
      ],
      "metadata": {
        "colab": {
          "base_uri": "https://localhost:8080/"
        },
        "id": "qgm0dSSsWAMW",
        "outputId": "a81e0b54-00f5-4d1c-885c-b3e489945447"
      },
      "execution_count": null,
      "outputs": [
        {
          "output_type": "stream",
          "name": "stdout",
          "text": [
            "tf.Tensor([1.063386  1.3633859], shape=(2,), dtype=float32)\n",
            "tf.Tensor(1.2133859, shape=(), dtype=float32)\n"
          ]
        }
      ]
    },
    {
      "cell_type": "code",
      "source": [],
      "metadata": {
        "id": "jxKzLQpDWDlv"
      },
      "execution_count": null,
      "outputs": []
    },
    {
      "cell_type": "markdown",
      "source": [
        "# Training"
      ],
      "metadata": {
        "id": "euiqo5qRW9rf"
      }
    },
    {
      "cell_type": "code",
      "source": [
        "optimizer = tf.keras.optimizers.Adam()\n",
        "\n",
        "def get_train_step_function():\n",
        "\n",
        "  @tf.function\n",
        "  def train_step(inp, targ, enc_hidden, encoder, decoder):\n",
        "    loss = 0\n",
        "\n",
        "    with tf.GradientTape() as tape:\n",
        "      enc_output, enc_hidden = encoder(inp, enc_hidden)\n",
        "\n",
        "      dec_hidden = enc_hidden\n",
        "\n",
        "      dec_input = tf.expand_dims([targ_lang.word_index['<start>']]*BATCH_SIZE, 1)\n",
        "\n",
        "      for t in range(1,targ.shape[1]):\n",
        "        predictions, dec_hidden, _ = decoder(dec_input, dec_hidden, enc_output)\n",
        "        loss += loss_function(targ[:, t], predictions)\n",
        "        dec_input = tf.expand_dims(targ[:,t],1)\n",
        "\n",
        "    batch_loss = (loss/int(targ.shape[1]))\n",
        "    variables = encoder.trainable_variables + decoder.trainable_variables\n",
        "    gradients = tape.gradient(loss, variables)\n",
        "    optimizer.apply_gradients(zip(gradients, variables))\n",
        "\n",
        "    return batch_loss\n",
        "  return train_step"
      ],
      "metadata": {
        "id": "Nq_x-D6iXM8N"
      },
      "execution_count": null,
      "outputs": []
    },
    {
      "cell_type": "code",
      "source": [
        "def calculate_validation_loss(inp, targ, enc_hidden, encoder, decoder):\n",
        "  loss = 0\n",
        "  enc_output, enc_hidden = encoder(inp, enc_hidden)\n",
        "  dec_hidden = enc_hidden\n",
        "  dec_input = tf.expand_dims([targ_lang.word_index['<start>']]*BATCH_SIZE,1)\n",
        "\n",
        "  for t in range(1, targ.shape[1]):\n",
        "    predictions, dec_hidden, _ = decoder(dec_input, dec_hidden, enc_output)\n",
        "    loss+=loss_function(targ[:,t], predictions)\n",
        "    dec_input = tf.expand_dims(targ[:, t], 1)\n",
        "\n",
        "  loss = loss/int(targ.shape[1])\n",
        "  return loss"
      ],
      "metadata": {
        "id": "G4SLY2UMezfc"
      },
      "execution_count": null,
      "outputs": []
    },
    {
      "cell_type": "code",
      "source": [
        "def training_seq2seq(epochs,attention):\n",
        "  encoder = Encoder(vocab_inp_size, embedding_dim, units, BATCH_SIZE)\n",
        "  decoder = DecoderWithAttention(vocab_tar_size, embedding_dim, units, BATCH_SIZE, attention)\n",
        "  train_step_func = get_train_step_function()\n",
        "  training_loss = []\n",
        "  validation_loss = []\n",
        "\n",
        "  for epoch in range(epochs):\n",
        "    start = time.time()\n",
        "    enc_hidden = encoder.initialize_hidden_state()\n",
        "    total_loss = 0\n",
        "\n",
        "    for (batch,(inp,targ)) in enumerate(dataset.take(steps_per_epoch)):\n",
        "      batch_loss = train_step_func(inp, targ, enc_hidden, encoder, decoder)\n",
        "      total_loss+=batch_loss\n",
        "\n",
        "      if batch%100 == 0:\n",
        "        print('Epoch {} Batch {} Loss {:.4f}'.format(epoch + 1, batch, batch_loss))\n",
        "\n",
        "    enc_hidden = encoder.initialize_hidden_state()\n",
        "    total_val_loss = 0\n",
        "\n",
        "    for (batch, (inp, targ)) in enumerate(validation_dataset.take(steps_per_epoch_val)):\n",
        "      val_loss = calculate_validation_loss(inp, targ, enc_hidden, encoder, decoder)\n",
        "      total_val_loss += val_loss\n",
        "\n",
        "    training_loss.append(total_loss/steps_per_epoch)\n",
        "    validation_loss.append(total_val_loss/steps_per_epoch_val)\n",
        "\n",
        "    print('Epoch {} Loss {:.4f} Validation Loss {:.4f}'.format(epoch + 1, training_loss[-1], validation_loss[-1]))\n",
        "    print('Time taken for 1 epoch {} sec\\n'.format(time.time() - start))\n",
        "\n",
        "  return encoder, decoder, training_loss, validation_loss"
      ],
      "metadata": {
        "id": "ib9guu-DjhEX"
      },
      "execution_count": null,
      "outputs": []
    },
    {
      "cell_type": "code",
      "source": [],
      "metadata": {
        "id": "1ykn7FFZntaY"
      },
      "execution_count": null,
      "outputs": []
    },
    {
      "cell_type": "markdown",
      "source": [
        "# Training seq2seq without attention"
      ],
      "metadata": {
        "id": "mK51jHXUnuq-"
      }
    },
    {
      "cell_type": "code",
      "source": [
        "epochs = 20\n",
        "attention = None\n",
        "print(\"Running seq2seq model without attention\")\n",
        "encoder, decoder, training_loss, validation_loss = training_seq2seq(epochs, attention)\n",
        "\n",
        "tloss = training_loss\n",
        "vloss = validation_loss"
      ],
      "metadata": {
        "colab": {
          "base_uri": "https://localhost:8080/"
        },
        "id": "Qm6XPVkonxgL",
        "outputId": "c7beca4e-9740-43d0-e566-f37ff806a614"
      },
      "execution_count": null,
      "outputs": [
        {
          "output_type": "stream",
          "name": "stdout",
          "text": [
            "Running seq2seq model without attention\n",
            "Epoch 1 Batch 0 Loss 7.7318\n",
            "Epoch 1 Batch 100 Loss 2.1228\n",
            "Epoch 1 Batch 200 Loss 1.9890\n",
            "Epoch 1 Batch 300 Loss 1.7133\n",
            "Epoch 1 Loss 2.0923 Validation Loss 1.6123\n",
            "Time taken for 1 epoch 65.80152082443237 sec\n",
            "\n",
            "Epoch 2 Batch 0 Loss 1.4999\n",
            "Epoch 2 Batch 100 Loss 1.5323\n",
            "Epoch 2 Batch 200 Loss 1.4634\n",
            "Epoch 2 Batch 300 Loss 1.3660\n",
            "Epoch 2 Loss 1.4199 Validation Loss 1.3065\n",
            "Time taken for 1 epoch 43.83407735824585 sec\n",
            "\n",
            "Epoch 3 Batch 0 Loss 1.1820\n",
            "Epoch 3 Batch 100 Loss 1.1052\n",
            "Epoch 3 Batch 200 Loss 1.1835\n",
            "Epoch 3 Batch 300 Loss 1.0444\n",
            "Epoch 3 Loss 1.0788 Validation Loss 1.1353\n",
            "Time taken for 1 epoch 43.41390919685364 sec\n",
            "\n",
            "Epoch 4 Batch 0 Loss 0.8849\n",
            "Epoch 4 Batch 100 Loss 0.8237\n",
            "Epoch 4 Batch 200 Loss 0.8856\n",
            "Epoch 4 Batch 300 Loss 0.8028\n",
            "Epoch 4 Loss 0.8394 Validation Loss 1.0241\n",
            "Time taken for 1 epoch 43.49695420265198 sec\n",
            "\n",
            "Epoch 5 Batch 0 Loss 0.6109\n",
            "Epoch 5 Batch 100 Loss 0.6058\n",
            "Epoch 5 Batch 200 Loss 0.7444\n",
            "Epoch 5 Batch 300 Loss 0.6671\n",
            "Epoch 5 Loss 0.6419 Validation Loss 0.9616\n",
            "Time taken for 1 epoch 44.33630657196045 sec\n",
            "\n",
            "Epoch 6 Batch 0 Loss 0.4004\n",
            "Epoch 6 Batch 100 Loss 0.4690\n",
            "Epoch 6 Batch 200 Loss 0.5414\n",
            "Epoch 6 Batch 300 Loss 0.5316\n",
            "Epoch 6 Loss 0.4759 Validation Loss 0.9209\n",
            "Time taken for 1 epoch 43.53739047050476 sec\n",
            "\n",
            "Epoch 7 Batch 0 Loss 0.3059\n",
            "Epoch 7 Batch 100 Loss 0.3678\n",
            "Epoch 7 Batch 200 Loss 0.2749\n",
            "Epoch 7 Batch 300 Loss 0.3319\n",
            "Epoch 7 Loss 0.3428 Validation Loss 0.9032\n",
            "Time taken for 1 epoch 43.193679332733154 sec\n",
            "\n",
            "Epoch 8 Batch 0 Loss 0.2290\n",
            "Epoch 8 Batch 100 Loss 0.2354\n",
            "Epoch 8 Batch 200 Loss 0.2444\n",
            "Epoch 8 Batch 300 Loss 0.2574\n",
            "Epoch 8 Loss 0.2416 Validation Loss 0.8973\n",
            "Time taken for 1 epoch 43.38964366912842 sec\n",
            "\n",
            "Epoch 9 Batch 0 Loss 0.1164\n",
            "Epoch 9 Batch 100 Loss 0.1413\n",
            "Epoch 9 Batch 200 Loss 0.1575\n",
            "Epoch 9 Batch 300 Loss 0.1881\n",
            "Epoch 9 Loss 0.1716 Validation Loss 0.9161\n",
            "Time taken for 1 epoch 43.51075506210327 sec\n",
            "\n",
            "Epoch 10 Batch 0 Loss 0.1312\n",
            "Epoch 10 Batch 100 Loss 0.1295\n",
            "Epoch 10 Batch 200 Loss 0.1172\n",
            "Epoch 10 Batch 300 Loss 0.1448\n",
            "Epoch 10 Loss 0.1251 Validation Loss 0.9161\n",
            "Time taken for 1 epoch 43.294413566589355 sec\n",
            "\n",
            "Epoch 11 Batch 0 Loss 0.0604\n",
            "Epoch 11 Batch 100 Loss 0.0794\n",
            "Epoch 11 Batch 200 Loss 0.0803\n",
            "Epoch 11 Batch 300 Loss 0.1195\n",
            "Epoch 11 Loss 0.0959 Validation Loss 0.9355\n",
            "Time taken for 1 epoch 43.33020281791687 sec\n",
            "\n",
            "Epoch 12 Batch 0 Loss 0.0827\n",
            "Epoch 12 Batch 100 Loss 0.0714\n",
            "Epoch 12 Batch 200 Loss 0.0820\n",
            "Epoch 12 Batch 300 Loss 0.1024\n",
            "Epoch 12 Loss 0.0794 Validation Loss 0.9531\n",
            "Time taken for 1 epoch 43.36953377723694 sec\n",
            "\n",
            "Epoch 13 Batch 0 Loss 0.0508\n",
            "Epoch 13 Batch 100 Loss 0.0844\n",
            "Epoch 13 Batch 200 Loss 0.1050\n",
            "Epoch 13 Batch 300 Loss 0.0646\n",
            "Epoch 13 Loss 0.0687 Validation Loss 0.9599\n",
            "Time taken for 1 epoch 43.49831461906433 sec\n",
            "\n",
            "Epoch 14 Batch 0 Loss 0.0363\n",
            "Epoch 14 Batch 100 Loss 0.0873\n",
            "Epoch 14 Batch 200 Loss 0.0643\n",
            "Epoch 14 Batch 300 Loss 0.0739\n",
            "Epoch 14 Loss 0.0637 Validation Loss 0.9742\n",
            "Time taken for 1 epoch 43.33318376541138 sec\n",
            "\n",
            "Epoch 15 Batch 0 Loss 0.0365\n",
            "Epoch 15 Batch 100 Loss 0.0663\n",
            "Epoch 15 Batch 200 Loss 0.0507\n",
            "Epoch 15 Batch 300 Loss 0.0882\n",
            "Epoch 15 Loss 0.0616 Validation Loss 0.9942\n",
            "Time taken for 1 epoch 43.26407861709595 sec\n",
            "\n",
            "Epoch 16 Batch 0 Loss 0.0413\n",
            "Epoch 16 Batch 100 Loss 0.0429\n",
            "Epoch 16 Batch 200 Loss 0.0605\n",
            "Epoch 16 Batch 300 Loss 0.0622\n",
            "Epoch 16 Loss 0.0598 Validation Loss 0.9905\n",
            "Time taken for 1 epoch 43.2647340297699 sec\n",
            "\n",
            "Epoch 17 Batch 0 Loss 0.0496\n",
            "Epoch 17 Batch 100 Loss 0.0943\n",
            "Epoch 17 Batch 200 Loss 0.0306\n",
            "Epoch 17 Batch 300 Loss 0.0860\n",
            "Epoch 17 Loss 0.0599 Validation Loss 1.0158\n",
            "Time taken for 1 epoch 50.67096734046936 sec\n",
            "\n",
            "Epoch 18 Batch 0 Loss 0.0397\n",
            "Epoch 18 Batch 100 Loss 0.0404\n",
            "Epoch 18 Batch 200 Loss 0.0760\n",
            "Epoch 18 Batch 300 Loss 0.0509\n",
            "Epoch 18 Loss 0.0605 Validation Loss 1.0095\n",
            "Time taken for 1 epoch 43.525233030319214 sec\n",
            "\n",
            "Epoch 19 Batch 0 Loss 0.0427\n",
            "Epoch 19 Batch 100 Loss 0.0271\n",
            "Epoch 19 Batch 200 Loss 0.0512\n",
            "Epoch 19 Batch 300 Loss 0.0765\n",
            "Epoch 19 Loss 0.0590 Validation Loss 1.0191\n",
            "Time taken for 1 epoch 43.44853210449219 sec\n",
            "\n",
            "Epoch 20 Batch 0 Loss 0.0156\n",
            "Epoch 20 Batch 100 Loss 0.0814\n",
            "Epoch 20 Batch 200 Loss 0.0332\n",
            "Epoch 20 Batch 300 Loss 0.0484\n",
            "Epoch 20 Loss 0.0570 Validation Loss 1.0307\n",
            "Time taken for 1 epoch 43.59282684326172 sec\n",
            "\n"
          ]
        }
      ]
    },
    {
      "cell_type": "code",
      "source": [
        "attention = DotProductAttention(units)\n",
        "print(\"Running seq2seq model with dot product attention\")\n",
        "encoder_dp, decoder_dp, training_loss, validation_loss = training_seq2seq(epochs, attention)\n",
        "\n",
        "tloss = np.vstack((tloss, training_loss))\n",
        "vloss = np.vstack((vloss, validation_loss))"
      ],
      "metadata": {
        "colab": {
          "base_uri": "https://localhost:8080/"
        },
        "id": "otb-xsC0n_nh",
        "outputId": "a4c2ce9a-9734-4169-b754-e3c544b3400d"
      },
      "execution_count": null,
      "outputs": [
        {
          "output_type": "stream",
          "name": "stdout",
          "text": [
            "Running seq2seq model with dot product attention\n",
            "Epoch 1 Batch 0 Loss 7.7311\n",
            "Epoch 1 Batch 100 Loss 2.5156\n",
            "Epoch 1 Batch 200 Loss 1.8885\n",
            "Epoch 1 Batch 300 Loss 1.8738\n",
            "Epoch 1 Loss 2.4150 Validation Loss 1.8649\n",
            "Time taken for 1 epoch 94.58045315742493 sec\n",
            "\n",
            "Epoch 2 Batch 0 Loss 1.8512\n",
            "Epoch 2 Batch 100 Loss 1.5898\n",
            "Epoch 2 Batch 200 Loss 1.4620\n",
            "Epoch 2 Batch 300 Loss 1.5177\n",
            "Epoch 2 Loss 1.5848 Validation Loss 1.5170\n",
            "Time taken for 1 epoch 77.13783073425293 sec\n",
            "\n",
            "Epoch 3 Batch 0 Loss 1.3080\n",
            "Epoch 3 Batch 100 Loss 1.2058\n",
            "Epoch 3 Batch 200 Loss 1.3574\n",
            "Epoch 3 Batch 300 Loss 1.2462\n",
            "Epoch 3 Loss 1.2923 Validation Loss 1.3447\n",
            "Time taken for 1 epoch 77.12297630310059 sec\n",
            "\n",
            "Epoch 4 Batch 0 Loss 1.0964\n",
            "Epoch 4 Batch 100 Loss 1.0699\n",
            "Epoch 4 Batch 200 Loss 1.2635\n",
            "Epoch 4 Batch 300 Loss 1.0615\n",
            "Epoch 4 Loss 1.0916 Validation Loss 1.2427\n",
            "Time taken for 1 epoch 77.53688836097717 sec\n",
            "\n",
            "Epoch 5 Batch 0 Loss 0.8499\n",
            "Epoch 5 Batch 100 Loss 1.0291\n",
            "Epoch 5 Batch 200 Loss 0.8472\n",
            "Epoch 5 Batch 300 Loss 0.9055\n",
            "Epoch 5 Loss 0.9220 Validation Loss 1.1415\n",
            "Time taken for 1 epoch 76.90393733978271 sec\n",
            "\n",
            "Epoch 6 Batch 0 Loss 0.8567\n",
            "Epoch 6 Batch 100 Loss 0.8092\n",
            "Epoch 6 Batch 200 Loss 0.8513\n",
            "Epoch 6 Batch 300 Loss 0.7631\n",
            "Epoch 6 Loss 0.7803 Validation Loss 1.0734\n",
            "Time taken for 1 epoch 77.01518058776855 sec\n",
            "\n",
            "Epoch 7 Batch 0 Loss 0.6167\n",
            "Epoch 7 Batch 100 Loss 0.6912\n",
            "Epoch 7 Batch 200 Loss 0.7222\n",
            "Epoch 7 Batch 300 Loss 0.6443\n",
            "Epoch 7 Loss 0.6621 Validation Loss 1.0358\n",
            "Time taken for 1 epoch 76.83813381195068 sec\n",
            "\n",
            "Epoch 8 Batch 0 Loss 0.5718\n",
            "Epoch 8 Batch 100 Loss 0.5438\n",
            "Epoch 8 Batch 200 Loss 0.5121\n",
            "Epoch 8 Batch 300 Loss 0.5216\n",
            "Epoch 8 Loss 0.5634 Validation Loss 1.0426\n",
            "Time taken for 1 epoch 76.99074101448059 sec\n",
            "\n",
            "Epoch 9 Batch 0 Loss 0.5366\n",
            "Epoch 9 Batch 100 Loss 0.5489\n",
            "Epoch 9 Batch 200 Loss 0.4320\n",
            "Epoch 9 Batch 300 Loss 0.5127\n",
            "Epoch 9 Loss 0.5003 Validation Loss 0.9504\n",
            "Time taken for 1 epoch 76.89398384094238 sec\n",
            "\n",
            "Epoch 10 Batch 0 Loss 0.4154\n",
            "Epoch 10 Batch 100 Loss 0.4193\n",
            "Epoch 10 Batch 200 Loss 0.4090\n",
            "Epoch 10 Batch 300 Loss 0.3857\n",
            "Epoch 10 Loss 0.4047 Validation Loss 0.9228\n",
            "Time taken for 1 epoch 76.68457221984863 sec\n",
            "\n",
            "Epoch 11 Batch 0 Loss 0.2840\n",
            "Epoch 11 Batch 100 Loss 0.3272\n",
            "Epoch 11 Batch 200 Loss 0.3213\n",
            "Epoch 11 Batch 300 Loss 0.3248\n",
            "Epoch 11 Loss 0.3391 Validation Loss 0.9058\n",
            "Time taken for 1 epoch 83.40982937812805 sec\n",
            "\n",
            "Epoch 12 Batch 0 Loss 0.3176\n",
            "Epoch 12 Batch 100 Loss 0.2402\n",
            "Epoch 12 Batch 200 Loss 0.3424\n",
            "Epoch 12 Batch 300 Loss 0.3060\n",
            "Epoch 12 Loss 0.2867 Validation Loss 0.8895\n",
            "Time taken for 1 epoch 76.83584523200989 sec\n",
            "\n",
            "Epoch 13 Batch 0 Loss 0.2817\n",
            "Epoch 13 Batch 100 Loss 0.2310\n",
            "Epoch 13 Batch 200 Loss 0.2255\n",
            "Epoch 13 Batch 300 Loss 0.3505\n",
            "Epoch 13 Loss 0.2415 Validation Loss 0.8879\n",
            "Time taken for 1 epoch 76.88733959197998 sec\n",
            "\n",
            "Epoch 14 Batch 0 Loss 0.2245\n",
            "Epoch 14 Batch 100 Loss 0.1563\n",
            "Epoch 14 Batch 200 Loss 0.1637\n",
            "Epoch 14 Batch 300 Loss 0.1960\n",
            "Epoch 14 Loss 0.2053 Validation Loss 0.8797\n",
            "Time taken for 1 epoch 76.75162434577942 sec\n",
            "\n",
            "Epoch 15 Batch 0 Loss 0.2120\n",
            "Epoch 15 Batch 100 Loss 0.1887\n",
            "Epoch 15 Batch 200 Loss 0.1927\n",
            "Epoch 15 Batch 300 Loss 0.2159\n",
            "Epoch 15 Loss 0.1980 Validation Loss 0.8863\n",
            "Time taken for 1 epoch 76.87544465065002 sec\n",
            "\n",
            "Epoch 16 Batch 0 Loss 0.1439\n",
            "Epoch 16 Batch 100 Loss 0.2006\n",
            "Epoch 16 Batch 200 Loss 0.2011\n",
            "Epoch 16 Batch 300 Loss 0.1657\n",
            "Epoch 16 Loss 0.1609 Validation Loss 0.8769\n",
            "Time taken for 1 epoch 76.75966787338257 sec\n",
            "\n",
            "Epoch 17 Batch 0 Loss 0.1346\n",
            "Epoch 17 Batch 100 Loss 0.1770\n",
            "Epoch 17 Batch 200 Loss 0.1490\n",
            "Epoch 17 Batch 300 Loss 0.1521\n",
            "Epoch 17 Loss 0.1493 Validation Loss 0.8903\n",
            "Time taken for 1 epoch 76.820476770401 sec\n",
            "\n",
            "Epoch 18 Batch 0 Loss 0.1012\n",
            "Epoch 18 Batch 100 Loss 0.0969\n",
            "Epoch 18 Batch 200 Loss 0.1614\n",
            "Epoch 18 Batch 300 Loss 0.0966\n",
            "Epoch 18 Loss 0.1265 Validation Loss 0.8949\n",
            "Time taken for 1 epoch 76.71603512763977 sec\n",
            "\n",
            "Epoch 19 Batch 0 Loss 0.1097\n",
            "Epoch 19 Batch 100 Loss 0.1310\n",
            "Epoch 19 Batch 200 Loss 0.0797\n",
            "Epoch 19 Batch 300 Loss 0.1192\n",
            "Epoch 19 Loss 0.1110 Validation Loss 0.8878\n",
            "Time taken for 1 epoch 76.91186189651489 sec\n",
            "\n",
            "Epoch 20 Batch 0 Loss 0.0984\n",
            "Epoch 20 Batch 100 Loss 0.0953\n",
            "Epoch 20 Batch 200 Loss 0.1110\n",
            "Epoch 20 Batch 300 Loss 0.1389\n",
            "Epoch 20 Loss 0.0967 Validation Loss 0.9040\n",
            "Time taken for 1 epoch 76.77867674827576 sec\n",
            "\n"
          ]
        }
      ]
    },
    {
      "cell_type": "code",
      "source": [
        "epochs = 20\n",
        "\n",
        "attention = BahdanauAttention(units)\n",
        "print(\"Running seq2seq model with Bahdanau attention\")\n",
        "encoder_bah, decoder_bah, training_loss, validation_loss = training_seq2seq(epochs, attention)\n",
        "\n",
        "tloss = np.vstack((tloss, training_loss))\n",
        "vloss = np.vstack((vloss, validation_loss))"
      ],
      "metadata": {
        "colab": {
          "base_uri": "https://localhost:8080/"
        },
        "id": "WXIb4R_-q-rW",
        "outputId": "8485c9c4-06fa-496d-8825-f926da552f68"
      },
      "execution_count": null,
      "outputs": [
        {
          "output_type": "stream",
          "name": "stdout",
          "text": [
            "Running seq2seq model with Bahdanau attention\n",
            "Epoch 1 Batch 0 Loss 7.7280\n",
            "Epoch 1 Batch 100 Loss 3.1505\n",
            "Epoch 1 Batch 200 Loss 2.6946\n",
            "Epoch 1 Batch 300 Loss 2.6451\n",
            "Epoch 1 Loss 3.1679 Validation Loss 2.4052\n",
            "Time taken for 1 epoch 95.46813035011292 sec\n",
            "\n",
            "Epoch 2 Batch 0 Loss 2.2939\n",
            "Epoch 2 Batch 100 Loss 2.2124\n",
            "Epoch 2 Batch 200 Loss 2.0370\n",
            "Epoch 2 Batch 300 Loss 1.9225\n",
            "Epoch 2 Loss 2.1305 Validation Loss 2.0288\n",
            "Time taken for 1 epoch 78.92238354682922 sec\n",
            "\n",
            "Epoch 3 Batch 0 Loss 1.9779\n",
            "Epoch 3 Batch 100 Loss 1.9651\n",
            "Epoch 3 Batch 200 Loss 1.8655\n",
            "Epoch 3 Batch 300 Loss 1.7625\n",
            "Epoch 3 Loss 1.7708 Validation Loss 1.7417\n",
            "Time taken for 1 epoch 78.77114820480347 sec\n",
            "\n",
            "Epoch 4 Batch 0 Loss 1.4712\n",
            "Epoch 4 Batch 100 Loss 1.5739\n",
            "Epoch 4 Batch 200 Loss 1.5956\n",
            "Epoch 4 Batch 300 Loss 1.4949\n",
            "Epoch 4 Loss 1.5103 Validation Loss 1.5628\n",
            "Time taken for 1 epoch 78.99677038192749 sec\n",
            "\n",
            "Epoch 5 Batch 0 Loss 1.3392\n",
            "Epoch 5 Batch 100 Loss 1.3150\n",
            "Epoch 5 Batch 200 Loss 1.2526\n",
            "Epoch 5 Batch 300 Loss 1.1983\n",
            "Epoch 5 Loss 1.3023 Validation Loss 1.4355\n",
            "Time taken for 1 epoch 78.97878456115723 sec\n",
            "\n",
            "Epoch 6 Batch 0 Loss 1.2104\n",
            "Epoch 6 Batch 100 Loss 1.1287\n",
            "Epoch 6 Batch 200 Loss 1.0699\n",
            "Epoch 6 Batch 300 Loss 1.1210\n",
            "Epoch 6 Loss 1.1068 Validation Loss 1.2782\n",
            "Time taken for 1 epoch 78.86120438575745 sec\n",
            "\n",
            "Epoch 7 Batch 0 Loss 0.9926\n",
            "Epoch 7 Batch 100 Loss 0.9765\n",
            "Epoch 7 Batch 200 Loss 0.8874\n",
            "Epoch 7 Batch 300 Loss 0.8775\n",
            "Epoch 7 Loss 0.9342 Validation Loss 1.1667\n",
            "Time taken for 1 epoch 78.66922736167908 sec\n",
            "\n",
            "Epoch 8 Batch 0 Loss 0.8671\n",
            "Epoch 8 Batch 100 Loss 0.8181\n",
            "Epoch 8 Batch 200 Loss 0.7985\n",
            "Epoch 8 Batch 300 Loss 0.7852\n",
            "Epoch 8 Loss 0.7826 Validation Loss 1.0682\n",
            "Time taken for 1 epoch 78.81675219535828 sec\n",
            "\n",
            "Epoch 9 Batch 0 Loss 0.6439\n",
            "Epoch 9 Batch 100 Loss 0.6966\n",
            "Epoch 9 Batch 200 Loss 0.6995\n",
            "Epoch 9 Batch 300 Loss 0.7113\n",
            "Epoch 9 Loss 0.6486 Validation Loss 1.0138\n",
            "Time taken for 1 epoch 78.78405976295471 sec\n",
            "\n",
            "Epoch 10 Batch 0 Loss 0.4849\n",
            "Epoch 10 Batch 100 Loss 0.4615\n",
            "Epoch 10 Batch 200 Loss 0.5637\n",
            "Epoch 10 Batch 300 Loss 0.5179\n",
            "Epoch 10 Loss 0.5388 Validation Loss 0.9384\n",
            "Time taken for 1 epoch 78.72267556190491 sec\n",
            "\n",
            "Epoch 11 Batch 0 Loss 0.5009\n",
            "Epoch 11 Batch 100 Loss 0.5140\n",
            "Epoch 11 Batch 200 Loss 0.4401\n",
            "Epoch 11 Batch 300 Loss 0.4107\n",
            "Epoch 11 Loss 0.4333 Validation Loss 0.8954\n",
            "Time taken for 1 epoch 78.91342973709106 sec\n",
            "\n",
            "Epoch 12 Batch 0 Loss 0.3293\n",
            "Epoch 12 Batch 100 Loss 0.3353\n",
            "Epoch 12 Batch 200 Loss 0.3339\n",
            "Epoch 12 Batch 300 Loss 0.4445\n",
            "Epoch 12 Loss 0.3492 Validation Loss 0.8644\n",
            "Time taken for 1 epoch 78.62454533576965 sec\n",
            "\n",
            "Epoch 13 Batch 0 Loss 0.3068\n",
            "Epoch 13 Batch 100 Loss 0.2730\n",
            "Epoch 13 Batch 200 Loss 0.3684\n",
            "Epoch 13 Batch 300 Loss 0.3077\n",
            "Epoch 13 Loss 0.2795 Validation Loss 0.8482\n",
            "Time taken for 1 epoch 78.65948724746704 sec\n",
            "\n",
            "Epoch 14 Batch 0 Loss 0.1762\n",
            "Epoch 14 Batch 100 Loss 0.2425\n",
            "Epoch 14 Batch 200 Loss 0.2603\n",
            "Epoch 14 Batch 300 Loss 0.2061\n",
            "Epoch 14 Loss 0.2231 Validation Loss 0.8391\n",
            "Time taken for 1 epoch 78.74511957168579 sec\n",
            "\n",
            "Epoch 15 Batch 0 Loss 0.1692\n",
            "Epoch 15 Batch 100 Loss 0.1428\n",
            "Epoch 15 Batch 200 Loss 0.1354\n",
            "Epoch 15 Batch 300 Loss 0.1911\n",
            "Epoch 15 Loss 0.1782 Validation Loss 0.8286\n",
            "Time taken for 1 epoch 78.9541220664978 sec\n",
            "\n",
            "Epoch 16 Batch 0 Loss 0.1469\n",
            "Epoch 16 Batch 100 Loss 0.1204\n",
            "Epoch 16 Batch 200 Loss 0.1212\n",
            "Epoch 16 Batch 300 Loss 0.1529\n",
            "Epoch 16 Loss 0.1415 Validation Loss 0.8368\n",
            "Time taken for 1 epoch 78.71201157569885 sec\n",
            "\n",
            "Epoch 17 Batch 0 Loss 0.0863\n",
            "Epoch 17 Batch 100 Loss 0.0839\n",
            "Epoch 17 Batch 200 Loss 0.1006\n",
            "Epoch 17 Batch 300 Loss 0.1387\n",
            "Epoch 17 Loss 0.1132 Validation Loss 0.8341\n",
            "Time taken for 1 epoch 83.84819912910461 sec\n",
            "\n",
            "Epoch 18 Batch 0 Loss 0.0863\n",
            "Epoch 18 Batch 100 Loss 0.0835\n",
            "Epoch 18 Batch 200 Loss 0.0957\n",
            "Epoch 18 Batch 300 Loss 0.0944\n",
            "Epoch 18 Loss 0.0914 Validation Loss 0.8420\n",
            "Time taken for 1 epoch 78.7323203086853 sec\n",
            "\n",
            "Epoch 19 Batch 0 Loss 0.0586\n",
            "Epoch 19 Batch 100 Loss 0.0511\n",
            "Epoch 19 Batch 200 Loss 0.0780\n",
            "Epoch 19 Batch 300 Loss 0.0683\n",
            "Epoch 19 Loss 0.0755 Validation Loss 0.8510\n",
            "Time taken for 1 epoch 78.53919577598572 sec\n",
            "\n",
            "Epoch 20 Batch 0 Loss 0.0568\n",
            "Epoch 20 Batch 100 Loss 0.0510\n",
            "Epoch 20 Batch 200 Loss 0.0607\n",
            "Epoch 20 Batch 300 Loss 0.0675\n",
            "Epoch 20 Loss 0.0646 Validation Loss 0.8616\n",
            "Time taken for 1 epoch 78.52779603004456 sec\n",
            "\n"
          ]
        }
      ]
    },
    {
      "cell_type": "code",
      "source": [
        "import matplotlib.pyplot as plt\n",
        "\n",
        "ax = plt.subplot(111)\n",
        "t = np.arange(1, epochs+1)\n",
        "\n",
        "for i in range(0, vloss.shape[0]):\n",
        "  line, = plt.plot(t, vloss[i,:], lw=2)\n",
        "\n",
        "ax.legend(('No attention', 'Dot product', 'Bahdanau'))\n",
        "ax.set_title(\"Validation loss\")"
      ],
      "metadata": {
        "colab": {
          "base_uri": "https://localhost:8080/",
          "height": 298
        },
        "id": "lWQ_CDy-tFnP",
        "outputId": "65e77e75-6137-468c-f47d-0eb0db775271"
      },
      "execution_count": null,
      "outputs": [
        {
          "output_type": "execute_result",
          "data": {
            "text/plain": [
              "Text(0.5, 1.0, 'Validation loss')"
            ]
          },
          "metadata": {},
          "execution_count": 27
        },
        {
          "output_type": "display_data",
          "data": {
            "image/png": "[encoded data removed]",
            "text/plain": [
              "<Figure size 432x288 with 1 Axes>"
            ]
          },
          "metadata": {
            "needs_background": "light"
          }
        }
      ]
    },
    {
      "cell_type": "code",
      "source": [],
      "metadata": {
        "id": "VptgwfvfviQ-"
      },
      "execution_count": null,
      "outputs": []
    },
    {
      "cell_type": "markdown",
      "source": [
        "#Translate"
      ],
      "metadata": {
        "id": "tYMrfnnPvxMf"
      }
    },
    {
      "cell_type": "code",
      "source": [
        "def translate(sentence, encoder, decoder):\n",
        "  attention_plot = np.zeros((max_length_targ, max_length_inp))\n",
        "  sentence = preprocess_sentence(sentence)\n",
        "\n",
        "  inputs = [inp_lang.word_index[i] for i in sentence.split(' ')]\n",
        "  inputs = tf.keras.preprocessing.sequence.pad_sequences([inputs],maxlen=max_length_inp, padding='post')\n",
        "\n",
        "  inputs = tf.convert_to_tensor(inputs)\n",
        "\n",
        "  result = ''\n",
        "\n",
        "  hidden = [tf.zeros((1,units))]\n",
        "  enc_out, enc_hidden = encoder(inputs, hidden)\n",
        "\n",
        "  dec_hidden = enc_hidden\n",
        "\n",
        "  dec_input = tf.expand_dims([targ_lang.word_index['<start>']], 0)\n",
        "\n",
        "  for t in range(max_length_targ):\n",
        "    predictions, dec_hidden, attention_weights = decoder(dec_input, dec_hidden, enc_out)\n",
        "    predicted_id = tf.argmax(predictions[0]).numpy()\n",
        "    result += targ_lang.index_word[predicted_id] + ' '\n",
        "\n",
        "    if targ_lang.index_word[predicted_id] == '<end>':\n",
        "      return result, sentence\n",
        "\n",
        "    dec_input = tf.expand_dims([predicted_id], 0)\n",
        "  return result, sentence"
      ],
      "metadata": {
        "id": "NLt61GKbvyJT"
      },
      "execution_count": null,
      "outputs": []
    },
    {
      "cell_type": "code",
      "source": [
        "result, sentence = translate(u'esta es mi vida.', encoder_bah, decoder_bah)\n",
        "print('Input: %s' % (sentence))\n",
        "print('Predicted translation: {}'.format(result))"
      ],
      "metadata": {
        "colab": {
          "base_uri": "https://localhost:8080/"
        },
        "id": "YBYbLOjrxqAq",
        "outputId": "c8199a06-4e05-4a36-fcfc-e26a283f0b39"
      },
      "execution_count": null,
      "outputs": [
        {
          "output_type": "stream",
          "name": "stdout",
          "text": [
            "Input: <start> esta es mi vida . <end>\n",
            "Predicted translation: this is my life . <end> \n"
          ]
        }
      ]
    },
    {
      "cell_type": "code",
      "source": [
        "result, sentence = translate(u'esta es mi vida.', encoder_dp, decoder_dp)\n",
        "print('Input: %s' % (sentence))\n",
        "print('Predicted translation: {}'.format(result))"
      ],
      "metadata": {
        "colab": {
          "base_uri": "https://localhost:8080/"
        },
        "id": "SZhWsnCXxr0Z",
        "outputId": "4f91f83b-f578-41b3-fea6-33a6eed03c23"
      },
      "execution_count": null,
      "outputs": [
        {
          "output_type": "stream",
          "name": "stdout",
          "text": [
            "Input: <start> esta es mi vida . <end>\n",
            "Predicted translation: this is my life . <end> \n"
          ]
        }
      ]
    },
    {
      "cell_type": "code",
      "source": [
        "result, sentence = translate(u'¿todavia estan en casa?', encoder_bah, decoder_bah)\n",
        "print('Input: %s' % (sentence))\n",
        "print('Predicted translation: {}'.format(result))"
      ],
      "metadata": {
        "colab": {
          "base_uri": "https://localhost:8080/"
        },
        "id": "bYe5O4I0x09N",
        "outputId": "4d73bb5d-98a8-462f-e5a9-d90bbdcd52b2"
      },
      "execution_count": null,
      "outputs": [
        {
          "output_type": "stream",
          "name": "stdout",
          "text": [
            "Input: <start> ¿ todavia estan en casa ? <end>\n",
            "Predicted translation: are you still at home ? <end> \n"
          ]
        }
      ]
    },
    {
      "cell_type": "code",
      "source": [
        "result, sentence = translate(u'tengo un gato negro.', encoder_dp, decoder_dp)\n",
        "print('Input: %s' % (sentence))\n",
        "print('Predicted translation: {}'.format(result))"
      ],
      "metadata": {
        "id": "boU-vRd0x3qg",
        "colab": {
          "base_uri": "https://localhost:8080/"
        },
        "outputId": "fe1f6bf6-ec4e-40cb-b5c1-3c11d5ebad85"
      },
      "execution_count": null,
      "outputs": [
        {
          "output_type": "stream",
          "name": "stdout",
          "text": [
            "Input: <start> tengo un gato negro . <end>\n",
            "Predicted translation: i have a black cat . <end> \n"
          ]
        }
      ]
    },
    {
      "cell_type": "code",
      "source": [],
      "metadata": {
        "id": "W0fJ2nIyPw3V"
      },
      "execution_count": null,
      "outputs": []
    }
  ]
}